{
 "cells": [
  {
   "cell_type": "markdown",
   "metadata": {},
   "source": [
    "0. Import stuff\n",
    "\n",
    "1. Load model\n",
    "    - a) The RNN class and functions it uses\n",
    "    - b) Load the model\n",
    " \n",
    "2. Load the data set\n",
    "    - that has been saved \n",
    "    - a) training set\n",
    "    - b) test set\n",
    "        - The test set should have the same amount of KG context as in the training set\n",
    " \n",
    "3. Training\n",
    "    - a) Training function\n",
    "    - b) Run the training\n",
    "    - c) Plot the losses from training \n",
    "    - d) Save the trained model\n",
    "\n",
    "4. Testing\n",
    "    - a) Test function\n",
    "    - b) Call the function and display / save results"
   ]
  },
  {
   "cell_type": "markdown",
   "metadata": {},
   "source": []
  },
  {
   "cell_type": "code",
   "execution_count": null,
   "metadata": {},
   "outputs": [],
   "source": []
  },
  {
   "cell_type": "markdown",
   "metadata": {},
   "source": [
    "### 0"
   ]
  },
  {
   "cell_type": "code",
   "execution_count": 4,
   "metadata": {},
   "outputs": [],
   "source": [
    "import os\n",
    "import random\n",
    "import requests\n",
    "import numpy as np\n",
    "\n",
    "from gensim.models import KeyedVectors\n",
    "import logging\n",
    "\n",
    "from gensim import utils\n",
    "import nltk\n",
    "\n",
    "import networkx as nx\n",
    "import matplotlib.pyplot as plt\n",
    "\n",
    "import shutil\n",
    "import smart_open\n",
    "import sys \n",
    "\n",
    "from sys import platform\n",
    "import random\n",
    "import tensorflow as tf\n",
    "import json\n",
    "\n",
    "import time\n",
    "import pickle"
   ]
  },
  {
   "cell_type": "markdown",
   "metadata": {},
   "source": [
    "### 1"
   ]
  },
  {
   "cell_type": "markdown",
   "metadata": {},
   "source": [
    "#### a)"
   ]
  },
  {
   "cell_type": "code",
   "execution_count": 2,
   "metadata": {},
   "outputs": [],
   "source": [
    "TINY = 1e-6\n",
    "ONE = tf.constant(1.)\n",
    "NAMESPACE = 'rnn'\n",
    "forbidden_weight = 1.\n",
    "_weight_for_positive_matches = 1.\n",
    "_rw = 1e-1\n",
    "\n",
    "\n",
    "class RNN(object):\n",
    "    _nodes_vocab_size = 300 * 3\n",
    "    _question_vocab_size = 300\n",
    "    _question_vector_size = 150\n",
    "    _types_size = 3\n",
    "    _mask_size = 200\n",
    "    _types_proj_size = 5\n",
    "    _word_proj_size = 50\n",
    "    _word_proj_size_for_rnn = 50\n",
    "    _word_proj_size_for_item = 50\n",
    "    _internal_proj_size = 250\n",
    "    _hidden_layer1_size = 250\n",
    "    _hidden_layer2_size = 250\n",
    "    _output_size = 2\n",
    "\n",
    "    _memory_dim = 100\n",
    "    _stack_dimension = 2\n",
    "\n",
    "    def __init__(self, dropout=1.0):\n",
    "        tf.compat.v1.reset_default_graph()\n",
    "        with tf.compat.v1.variable_scope(NAMESPACE):\n",
    "            config = tf.compat.v1.ConfigProto(allow_soft_placement=True)\n",
    "            self.sess = tf.compat.v1.Session(config=config)\n",
    "\n",
    "            # Input variables\n",
    "            self.node_X_fw = tf.compat.v1.placeholder(tf.float32, shape=(None, None, self._nodes_vocab_size), name='node_X_fw')\n",
    "            self.node_X_bw = tf.compat.v1.placeholder(tf.float32, shape=(None, None, self._nodes_vocab_size), name='node_X_bw')\n",
    "            self.question_vectors_fw = tf.compat.v1.placeholder(tf.float32, shape=(None, None, self._question_vocab_size),\n",
    "                                                      name='question_vectors_inp_fw')\n",
    "            self.question_vectors_bw = tf.compat.v1.placeholder(tf.float32, shape=(None, None, self._question_vocab_size),\n",
    "                                                      name='question_vectors_inp_nw')\n",
    "            self.question_mask = tf.compat.v1.placeholder(tf.float32, shape=(None, None, self._mask_size),\n",
    "                                                name='question_mask')\n",
    "\n",
    "            # The question is pre-processed by a bi-GRU\n",
    "            self.Wq = tf.Variable(tf.compat.v1.random_uniform([self._question_vocab_size,\n",
    "                                                     self._word_proj_size_for_rnn], -_rw, _rw))\n",
    "            self.bq = tf.Variable(tf.compat.v1.random_uniform([self._word_proj_size_for_rnn], -_rw, _rw))\n",
    "            self.internal_projection = lambda x: tf.nn.relu(tf.matmul(x, self.Wq) + self.bq)\n",
    "            self.question_int_fw = tf.map_fn(self.internal_projection, self.question_vectors_fw)\n",
    "            self.question_int_bw = tf.map_fn(self.internal_projection, self.question_vectors_bw)\n",
    "\n",
    "            self.rnn_cell_fw = tf.compat.v1.nn.rnn_cell.MultiRNNCell([tf.compat.v1.nn.rnn_cell.GRUCell(self._memory_dim) for _ in range(self._stack_dimension)],\n",
    "                                                state_is_tuple=True)\n",
    "            self.rnn_cell_bw = tf.compat.v1.nn.rnn_cell.MultiRNNCell([tf.compat.v1.nn.rnn_cell.GRUCell(self._memory_dim) for _ in range(self._stack_dimension)],\n",
    "                                                state_is_tuple=True)\n",
    "            with tf.compat.v1.variable_scope('fw'):\n",
    "                output_fw, state_fw = tf.compat.v1.nn.dynamic_rnn(self.rnn_cell_fw, self.question_int_fw, time_major=True,\n",
    "                                                        dtype=tf.float32)\n",
    "            with tf.compat.v1.variable_scope('bw'):\n",
    "                output_bw, state_bw = tf.compat.v1.nn.dynamic_rnn(self.rnn_cell_bw, self.question_int_bw, time_major=True,\n",
    "                                                        dtype=tf.float32)\n",
    "\n",
    "            self.states = tf.concat(values=[output_fw, tf.reverse(output_bw, [0])], axis=2)\n",
    "            self.question_vector_pre = tf.reduce_mean(tf.multiply(self.question_mask, self.states), axis=0)\n",
    "            self.Wqa = tf.Variable(\n",
    "                tf.compat.v1.random_uniform([2 * self._memory_dim, self._question_vector_size], -_rw, _rw),\n",
    "                name='Wqa')\n",
    "            self.bqa = tf.Variable(tf.compat.v1.random_uniform([self._question_vector_size], -_rw, _rw), name='bqa')\n",
    "            self.question_vector = tf.nn.relu(tf.matmul(self.question_vector_pre, self.Wqa) + self.bqa)\n",
    "\n",
    "            # bi-LSTM of triplets part\n",
    "            self.Wtri = tf.Variable(tf.compat.v1.random_uniform([self._nodes_vocab_size,\n",
    "                                                       self._word_proj_size_for_rnn], -_rw, _rw))\n",
    "            self.btri = tf.Variable(tf.compat.v1.random_uniform([self._word_proj_size_for_rnn], -_rw, _rw))\n",
    "            self.internal_projection = lambda x: tf.nn.relu(tf.matmul(x, self.Wtri) + self.btri)\n",
    "            self.node_int_fw = tf.map_fn(self.internal_projection, self.node_X_fw)\n",
    "            self.node_int_bw = tf.map_fn(self.internal_projection, self.node_X_bw)\n",
    "\n",
    "            self.rnn_cell_fw_tri = tf.compat.v1.nn.rnn_cell.MultiRNNCell(\n",
    "                [tf.compat.v1.nn.rnn_cell.GRUCell(self._memory_dim) for _ in range(self._stack_dimension)],\n",
    "                state_is_tuple=True)\n",
    "            self.rnn_cell_bw_tri = tf.compat.v1.nn.rnn_cell.MultiRNNCell(\n",
    "                [tf.compat.v1.nn.rnn_cell.GRUCell(self._memory_dim) for _ in range(self._stack_dimension)],\n",
    "                state_is_tuple=True)\n",
    "            with tf.compat.v1.variable_scope('fw_tri'):\n",
    "                output_fw_tri, _ = tf.compat.v1.nn.dynamic_rnn(self.rnn_cell_fw_tri, self.node_int_fw, time_major=True,\n",
    "                                                     dtype=tf.float32)\n",
    "            with tf.compat.v1.variable_scope('bw_tri'):\n",
    "                output_bw_tri, _ = tf.compat.v1.nn.dynamic_rnn(self.rnn_cell_bw_tri, self.node_int_bw, time_major=True,\n",
    "                                                     dtype=tf.float32)\n",
    "\n",
    "            self.states_tri = tf.concat(values=[output_fw_tri, output_bw_tri], axis=2)\n",
    "\n",
    "            self.Walpha = tf.Variable(tf.compat.v1.random_uniform([2 * self._memory_dim + self._question_vector_size,\n",
    "                                                         1], -_rw, _rw))\n",
    "            self.balpha = tf.Variable(tf.compat.v1.random_uniform([1], -_rw, _rw))\n",
    "            self.alpha_projection = lambda x: tf.nn.relu(tf.matmul(tf.concat(values=[x, self.question_vector], axis=1),\n",
    "                                                                   self.Walpha) + self.balpha)\n",
    "            self.alphas = tf.map_fn(self.alpha_projection, self.states_tri)\n",
    "            self.alphas = tf.compat.v1.nn.softmax(self.alphas, dim =0)\n",
    "            self.centroid = tf.reduce_mean(tf.multiply(self.states_tri, self.alphas), axis=0)\n",
    "\n",
    "            self.concatenated = tf.concat(values=[self.question_vector, self.centroid], axis=1)\n",
    "\n",
    "            # Final feedforward layers\n",
    "            self.Ws1 = tf.Variable(\n",
    "                tf.compat.v1.random_uniform([self._question_vector_size\n",
    "                                   + 2 * self._memory_dim,\n",
    "                                   self._hidden_layer2_size], -_rw, _rw),\n",
    "                name='Ws1')\n",
    "            self.bs1 = tf.Variable(tf.compat.v1.random_uniform([self._hidden_layer2_size], -_rw, _rw), name='bs1')\n",
    "            self.first_hidden = tf.nn.relu(tf.matmul(self.concatenated, self.Ws1) + self.bs1)\n",
    "            self.first_hidden_dropout = tf.nn.dropout(self.first_hidden, dropout)\n",
    "\n",
    "            self.Wf = tf.Variable(\n",
    "                tf.compat.v1.random_uniform([self._hidden_layer2_size, self._output_size], -_rw,\n",
    "                                  _rw),\n",
    "                name='Wf')\n",
    "            self.bf = tf.Variable(tf.compat.v1.random_uniform([self._output_size], -_rw, _rw), name='bf')\n",
    "            self.outputs = tf.nn.softmax(tf.matmul(self.first_hidden_dropout, self.Wf) + self.bf)\n",
    "\n",
    "            # Loss function and training\n",
    "            self.y_ = tf.compat.v1.placeholder(tf.float32, shape=(None, self._output_size), name='y_')\n",
    "            self.outputs2 = tf.squeeze(self.outputs)\n",
    "            self.y2_ = tf.squeeze(self.y_)\n",
    "            self.one = tf.ones_like(self.outputs)\n",
    "            self.tiny = self.one * TINY\n",
    "            self.cross_entropy = (tf.reduce_mean(\n",
    "                -tf.reduce_sum(self.y_ * tf.compat.v1.log(self.outputs + self.tiny) * _weight_for_positive_matches\n",
    "                               + (self.one - self.y_) * tf.compat.v1.log(\n",
    "                    self.one - self.outputs + self.tiny))\n",
    "            ))\n",
    "\n",
    "        # Clipping the gradient\n",
    "        optimizer = tf.compat.v1.train.AdamOptimizer(1e-4)\n",
    "        gvs = optimizer.compute_gradients(self.cross_entropy)\n",
    "        capped_gvs = [(tf.clip_by_value(grad, -1., 1.), var) for grad, var in gvs if var.name.find(NAMESPACE) != -1]\n",
    "        self.train_step = optimizer.apply_gradients(capped_gvs)\n",
    "        self.sess.run(tf.compat.v1.global_variables_initializer())\n",
    "\n",
    "        # Adding the summaries\n",
    "        tf.compat.v1.summary.scalar('cross_entropy', self.cross_entropy)\n",
    "        self.merged = tf.compat.v1.summary.merge_all(key=tf.compat.v1.GraphKeys.SUMMARIES)\n",
    "        self.train_writer = tf.compat.v1.summary.FileWriter('./train', self.sess.graph)\n",
    "\n",
    "    def __train(self, node_X, item_vector, question_vectors, question_mask, y):\n",
    "        node_X_fw = np.array(node_X)\n",
    "        node_X_fw = np.transpose(node_X_fw, (1, 0, 2))\n",
    "        node_X_bw = node_X_fw[::-1, :, :]\n",
    "\n",
    "        question_vectors = np.array(question_vectors)\n",
    "        question_vectors_fw = np.transpose(question_vectors, (1, 0, 2))\n",
    "        question_vectors_bw = question_vectors_fw[::-1, :, :]\n",
    "\n",
    "        question_mask = np.array(question_mask)\n",
    "        question_mask = np.transpose(question_mask, (1, 0, 2))\n",
    "\n",
    "        y = np.array(y)\n",
    "\n",
    "        feed_dict = {}\n",
    "        feed_dict.update({self.node_X_fw: node_X_fw})\n",
    "        feed_dict.update({self.node_X_bw: node_X_bw})\n",
    "        feed_dict.update({self.question_vectors_fw: question_vectors_fw})\n",
    "        feed_dict.update({self.question_vectors_bw: question_vectors_bw})\n",
    "        feed_dict.update({self.question_mask: question_mask})\n",
    "        feed_dict.update({self.y_: y})\n",
    "\n",
    "        loss, _,  outputs2, y2 = self.sess.run(\n",
    "            [self.cross_entropy, self.train_step, self.outputs2, self.y2_], feed_dict)\n",
    "        return loss\n",
    "\n",
    "    def train(self, data, epochs=20):\n",
    "        \n",
    "        for epoch in range(epochs):\n",
    "            loss = self.__train([data[i][0] for i in range(len(data))],\n",
    "                                   [data[i][1] for i in range(len(data))],\n",
    "                                   [data[i][2] for i in range(len(data))],\n",
    "                                   [data[i][3] for i in range(len(data))],\n",
    "                                   [data[i][4] for i in range(len(data))])\n",
    "\n",
    "            sys.stdout.flush()\n",
    "        return loss\n",
    "    def __predict(self, node_X, item_vector, question_vectors, question_mask):\n",
    "        \n",
    "        node_X_fw = np.array(node_X)\n",
    "        node_X_fw = np.transpose(node_X_fw, (1, 0, 2))\n",
    "        node_X_bw = node_X_fw[::-1, :, :]\n",
    "\n",
    "        question_vectors = np.array(question_vectors)\n",
    "        question_vectors_fw = np.transpose(question_vectors, (1, 0, 2))\n",
    "        question_vectors_bw = question_vectors_fw[::-1, :, :]\n",
    "\n",
    "        question_mask = np.array(question_mask)\n",
    "        question_mask = np.transpose(question_mask, (1, 0, 2))\n",
    "\n",
    "        feed_dict = {}\n",
    "        feed_dict.update({self.node_X_fw: node_X_fw})\n",
    "        feed_dict.update({self.node_X_bw: node_X_bw})\n",
    "\n",
    "        feed_dict.update({self.question_vectors_fw: question_vectors_fw})\n",
    "        feed_dict.update({self.question_vectors_bw: question_vectors_bw})\n",
    "        feed_dict.update({self.question_mask: question_mask})\n",
    "\n",
    "        y_batch = self.sess.run([self.outputs2], feed_dict)\n",
    "        return y_batch\n",
    "\n",
    "    def __standardize_item(self, item):\n",
    "        if item[0] < item[1]:\n",
    "            return [0., 1.]\n",
    "        return [1., 0.]\n",
    "\n",
    "    def predict(self, node_X, item_vector, question_vectors, question_mask):\n",
    "        output = self.__predict([node_X], [item_vector], [question_vectors], [question_mask])\n",
    "        return self.__standardize_item(output[0])\n",
    "\n",
    "    # Loading and saving functions\n",
    "\n",
    "    def save(self, filename):\n",
    "        saver =  tf.compat.v1.train.Saver()\n",
    "        saver.save(self.sess, filename)\n",
    "\n",
    "    def load_tensorflow(self, filename):\n",
    "        saver =  tf.compat.v1.train.Saver([v for v in tf.compat.v1.global_variables() if NAMESPACE in v.name])\n",
    "        saver.restore(self.sess, filename)\n",
    "\n",
    "    @classmethod\n",
    "    def load(self, filename, dropout=1.0):\n",
    "        model = GCN_QA(dropout)\n",
    "        model.load_tensorflow(filename)\n",
    "        return model\n"
   ]
  },
  {
   "cell_type": "markdown",
   "metadata": {},
   "source": [
    "b) "
   ]
  },
  {
   "cell_type": "code",
   "execution_count": 7,
   "metadata": {},
   "outputs": [
    {
     "name": "stdout",
     "output_type": "stream",
     "text": [
      "Loading model: \n",
      "WARNING:tensorflow:From <ipython-input-6-7678756ad5a1>:51: GRUCell.__init__ (from tensorflow.python.keras.layers.legacy_rnn.rnn_cell_impl) is deprecated and will be removed in a future version.\n",
      "Instructions for updating:\n",
      "This class is equivalent as tf.keras.layers.GRUCell, and will be replaced by that in Tensorflow 2.0.\n",
      "WARNING:tensorflow:From <ipython-input-6-7678756ad5a1>:51: MultiRNNCell.__init__ (from tensorflow.python.keras.layers.legacy_rnn.rnn_cell_impl) is deprecated and will be removed in a future version.\n",
      "Instructions for updating:\n",
      "This class is equivalent as tf.keras.layers.StackedRNNCells, and will be replaced by that in Tensorflow 2.0.\n",
      "WARNING:tensorflow:From <ipython-input-6-7678756ad5a1>:56: dynamic_rnn (from tensorflow.python.ops.rnn) is deprecated and will be removed in a future version.\n",
      "Instructions for updating:\n",
      "Please use `keras.layers.RNN(cell)`, which is equivalent to this API\n",
      "WARNING:tensorflow:From /Users/valdimareggertsson/.pyenv/versions/3.8.2/lib/python3.8/site-packages/tensorflow/python/keras/layers/legacy_rnn/rnn_cell_impl.py:561: Layer.add_variable (from tensorflow.python.keras.engine.base_layer_v1) is deprecated and will be removed in a future version.\n",
      "Instructions for updating:\n",
      "Please use `layer.add_weight` method instead.\n",
      "WARNING:tensorflow:From /Users/valdimareggertsson/.pyenv/versions/3.8.2/lib/python3.8/site-packages/tensorflow/python/keras/layers/legacy_rnn/rnn_cell_impl.py:570: calling Constant.__init__ (from tensorflow.python.ops.init_ops) with dtype is deprecated and will be removed in a future version.\n",
      "Instructions for updating:\n",
      "Call initializer instance with the dtype argument instead of passing it to the constructor\n",
      "WARNING:tensorflow:From /Users/valdimareggertsson/.pyenv/versions/3.8.2/lib/python3.8/site-packages/tensorflow/python/keras/layers/legacy_rnn/rnn_cell_impl.py:580: calling Zeros.__init__ (from tensorflow.python.ops.init_ops) with dtype is deprecated and will be removed in a future version.\n",
      "Instructions for updating:\n",
      "Call initializer instance with the dtype argument instead of passing it to the constructor\n",
      "WARNING:tensorflow:From /Users/valdimareggertsson/.pyenv/versions/3.8.2/lib/python3.8/site-packages/tensorflow/python/util/dispatch.py:201: calling softmax (from tensorflow.python.ops.nn_ops) with dim is deprecated and will be removed in a future version.\n",
      "Instructions for updating:\n",
      "dim is deprecated, use axis instead\n"
     ]
    }
   ],
   "source": [
    "tf.compat.v1.disable_eager_execution()\n",
    "\n",
    "print('Loading model: ')\n",
    "RNN_with_attention_100 = RNN(dropout=0.25)"
   ]
  },
  {
   "cell_type": "markdown",
   "metadata": {},
   "source": [
    "Load a model to train on max 400 node subgraph"
   ]
  },
  {
   "cell_type": "code",
   "execution_count": 3,
   "metadata": {},
   "outputs": [
    {
     "name": "stdout",
     "output_type": "stream",
     "text": [
      "Loading model: \n",
      "WARNING:tensorflow:From <ipython-input-2-7678756ad5a1>:51: GRUCell.__init__ (from tensorflow.python.keras.layers.legacy_rnn.rnn_cell_impl) is deprecated and will be removed in a future version.\n",
      "Instructions for updating:\n",
      "This class is equivalent as tf.keras.layers.GRUCell, and will be replaced by that in Tensorflow 2.0.\n",
      "WARNING:tensorflow:From <ipython-input-2-7678756ad5a1>:51: MultiRNNCell.__init__ (from tensorflow.python.keras.layers.legacy_rnn.rnn_cell_impl) is deprecated and will be removed in a future version.\n",
      "Instructions for updating:\n",
      "This class is equivalent as tf.keras.layers.StackedRNNCells, and will be replaced by that in Tensorflow 2.0.\n",
      "WARNING:tensorflow:From <ipython-input-2-7678756ad5a1>:56: dynamic_rnn (from tensorflow.python.ops.rnn) is deprecated and will be removed in a future version.\n",
      "Instructions for updating:\n",
      "Please use `keras.layers.RNN(cell)`, which is equivalent to this API\n",
      "WARNING:tensorflow:From /Users/valdimareggertsson/.pyenv/versions/3.8.2/lib/python3.8/site-packages/tensorflow/python/keras/layers/legacy_rnn/rnn_cell_impl.py:561: Layer.add_variable (from tensorflow.python.keras.engine.base_layer_v1) is deprecated and will be removed in a future version.\n",
      "Instructions for updating:\n",
      "Please use `layer.add_weight` method instead.\n",
      "WARNING:tensorflow:From /Users/valdimareggertsson/.pyenv/versions/3.8.2/lib/python3.8/site-packages/tensorflow/python/keras/layers/legacy_rnn/rnn_cell_impl.py:570: calling Constant.__init__ (from tensorflow.python.ops.init_ops) with dtype is deprecated and will be removed in a future version.\n",
      "Instructions for updating:\n",
      "Call initializer instance with the dtype argument instead of passing it to the constructor\n",
      "WARNING:tensorflow:From /Users/valdimareggertsson/.pyenv/versions/3.8.2/lib/python3.8/site-packages/tensorflow/python/keras/layers/legacy_rnn/rnn_cell_impl.py:580: calling Zeros.__init__ (from tensorflow.python.ops.init_ops) with dtype is deprecated and will be removed in a future version.\n",
      "Instructions for updating:\n",
      "Call initializer instance with the dtype argument instead of passing it to the constructor\n",
      "WARNING:tensorflow:From /Users/valdimareggertsson/.pyenv/versions/3.8.2/lib/python3.8/site-packages/tensorflow/python/util/dispatch.py:201: calling softmax (from tensorflow.python.ops.nn_ops) with dim is deprecated and will be removed in a future version.\n",
      "Instructions for updating:\n",
      "dim is deprecated, use axis instead\n"
     ]
    }
   ],
   "source": [
    "tf.compat.v1.disable_eager_execution()\n",
    "\n",
    "print('Loading model: ')\n",
    "RNN_with_attention_400 = RNN(dropout=0.25)"
   ]
  },
  {
   "cell_type": "markdown",
   "metadata": {},
   "source": [
    "### 2"
   ]
  },
  {
   "cell_type": "markdown",
   "metadata": {},
   "source": [
    "a)"
   ]
  },
  {
   "cell_type": "code",
   "execution_count": 11,
   "metadata": {},
   "outputs": [],
   "source": [
    "\n",
    "\n",
    "# pickle file, saved from running the make_training_set_wikidata notebook\n",
    "current_training_set =  'training_data_rnn_9713_100.pickle'\n",
    "\n",
    "# 'training_data_rnn_39106_10.pickle'\n",
    "\n",
    "with open(current_training_set, 'rb') as handle:\n",
    "    training_data = pickle.load(handle)"
   ]
  },
  {
   "cell_type": "markdown",
   "metadata": {},
   "source": [
    "Select the first 5000 entities from the full training set, to train on.\n",
    "\n",
    "It had 39106 rows (19503 entities that worked)"
   ]
  },
  {
   "cell_type": "raw",
   "metadata": {},
   "source": [
    "n_entities = 5000\n",
    "\n",
    "training_data = training_data[:2*n_entities]"
   ]
  },
  {
   "cell_type": "markdown",
   "metadata": {},
   "source": [
    "max 400 training set"
   ]
  },
  {
   "cell_type": "code",
   "execution_count": 5,
   "metadata": {},
   "outputs": [],
   "source": [
    "current_training_set =  'training_data_rnn_9743_400.pickle'\n",
    "\n",
    "# 'training_data_rnn_39106_10.pickle'\n",
    "\n",
    "with open(current_training_set, 'rb') as handle:\n",
    "    training_data_400 = pickle.load(handle)\n",
    "\n",
    " "
   ]
  },
  {
   "cell_type": "markdown",
   "metadata": {},
   "source": [
    "b)"
   ]
  },
  {
   "cell_type": "code",
   "execution_count": 9,
   "metadata": {},
   "outputs": [],
   "source": [
    "# pickle file, saved from running the make_training_set_wikidata notebook\n",
    "   # name has model, number of entities and number of nodes\n",
    "import pickle    \n",
    "current_test_set =  'test_data_rnn_1944_400.pickle'\n",
    "with open(current_test_set, 'rb') as handle:\n",
    "    test_set = pickle.load(handle)"
   ]
  },
  {
   "cell_type": "code",
   "execution_count": 13,
   "metadata": {},
   "outputs": [],
   "source": [
    "# pickle file, saved from running the make_training_set_wikidata notebook\n",
    "   # name has model, number of entities and number of nodes\n",
    "\n",
    "current_test_set =  'test_data_rnn_1939_100.pickle'\n",
    "with open(current_test_set, 'rb') as handle:\n",
    "    test_set = pickle.load(handle)"
   ]
  },
  {
   "cell_type": "markdown",
   "metadata": {},
   "source": [
    "### 3"
   ]
  },
  {
   "cell_type": "markdown",
   "metadata": {},
   "source": [
    "#### a)"
   ]
  },
  {
   "cell_type": "code",
   "execution_count": 6,
   "metadata": {},
   "outputs": [],
   "source": [
    "def get_chunks(l, n):\n",
    "    return [l[i:i + n] for i in range(0, len(l), n)]\n",
    "\n",
    "def bin_data_into_buckets(data, batch_size):\n",
    "    buckets = []\n",
    "    size_to_data_dict = {}\n",
    "    for item in data:\n",
    "        seq_length = len(item['graph']['vectors'])\n",
    "        question_length = len(item['question_vectors'])\n",
    "        try:\n",
    "            size_to_data_dict[(seq_length, question_length)].append(item)\n",
    "        except:\n",
    "            size_to_data_dict[(seq_length, question_length)] = [item]\n",
    "    for key in size_to_data_dict.keys():\n",
    "        data = size_to_data_dict[key]\n",
    "        chunks = get_chunks(data, batch_size)\n",
    "        for chunk in chunks:\n",
    "            buckets.append(chunk)\n",
    "    return buckets\n",
    "\n",
    "\n",
    "def train_rnn(data, model, saving_dir, name_prefix, epochs=20, bucket_size=10, trace_every=1):\n",
    "    buckets = bin_data_into_buckets(data, bucket_size)\n",
    "    losses = []\n",
    "    \n",
    "    start_time = time.time()\n",
    "\n",
    "\n",
    "    for i in range(epochs):\n",
    "        random_buckets = sorted(buckets, key=lambda x: random.random())\n",
    "        sys.stderr.write('--------- Epoch ' + str(i) + ' ---------\\n')\n",
    "        sys.stderr.write('time_elapsed (s): ' + str(time.time() - start_time) + '\\n')\n",
    "       \n",
    "        for bucket in random_buckets:\n",
    "            graph_bucket = []\n",
    "#             try:\n",
    "            for item in bucket:\n",
    "                node_vectors = item['graph']['vectors']\n",
    "                y = item['answer']\n",
    "                item_vector = item['item_vector']\n",
    "                question_vectors = item['question_vectors']\n",
    "                question_mask = item['question_mask']\n",
    "#                 print('node_vector: {}'.format(type(node_vectors)))\n",
    "#                 print('y: {}'.format(y))\n",
    "#                 print('item_vector: {}'.format(type(item_vector)))\n",
    "#                 print('question_vectors: {}'.format(type(question_vectors)))\n",
    "#                 print('question_mask: {}'.format(type(question_mask)))\n",
    "#                 break\n",
    "                graph_bucket.append((node_vectors, item_vector, question_vectors, question_mask, y))\n",
    "                \n",
    "                \n",
    "            if len(graph_bucket) > 0:\n",
    "                loss = model.train(graph_bucket, 1)\n",
    "                losses.append(loss)\n",
    "#             except Exception as e:\n",
    "#                 print('Exception caught during training: ' + str(e))\n",
    "        if i % trace_every == 0:\n",
    "            save_filename = saving_dir + name_prefix + '-' + str(i) + '.tf'\n",
    "            sys.stderr.write('Saving into ' + save_filename + '\\n')\n",
    "            model.save(save_filename)\n",
    "    return losses, buckets"
   ]
  },
  {
   "cell_type": "markdown",
   "metadata": {},
   "source": [
    "#### b)"
   ]
  },
  {
   "cell_type": "code",
   "execution_count": 14,
   "metadata": {},
   "outputs": [
    {
     "name": "stderr",
     "output_type": "stream",
     "text": [
      "--------- Epoch 0 ---------\n",
      "time_elapsed (s): 0.0006959438323974609\n",
      "Saving into data/rnn-0.tf\n",
      "--------- Epoch 1 ---------\n",
      "time_elapsed (s): 267.9810400009155\n",
      "Saving into data/rnn-1.tf\n",
      "--------- Epoch 2 ---------\n",
      "time_elapsed (s): 511.6649122238159\n",
      "Saving into data/rnn-2.tf\n",
      "--------- Epoch 3 ---------\n",
      "time_elapsed (s): 744.7121930122375\n",
      "Saving into data/rnn-3.tf\n",
      "--------- Epoch 4 ---------\n",
      "time_elapsed (s): 977.31556391716\n",
      "Saving into data/rnn-4.tf\n",
      "--------- Epoch 5 ---------\n",
      "time_elapsed (s): 1206.830137014389\n",
      "Saving into data/rnn-5.tf\n",
      "--------- Epoch 6 ---------\n",
      "time_elapsed (s): 1435.1079289913177\n",
      "Saving into data/rnn-6.tf\n",
      "--------- Epoch 7 ---------\n",
      "time_elapsed (s): 1666.308042049408\n",
      "Saving into data/rnn-7.tf\n",
      "--------- Epoch 8 ---------\n",
      "time_elapsed (s): 1900.0522849559784\n",
      "Saving into data/rnn-8.tf\n",
      "--------- Epoch 9 ---------\n",
      "time_elapsed (s): 2143.0867908000946\n",
      "Saving into data/rnn-9.tf\n",
      "--------- Epoch 10 ---------\n",
      "time_elapsed (s): 2395.67049908638\n",
      "Saving into data/rnn-10.tf\n",
      "--------- Epoch 11 ---------\n",
      "time_elapsed (s): 2649.23659491539\n",
      "Saving into data/rnn-11.tf\n",
      "--------- Epoch 12 ---------\n",
      "time_elapsed (s): 2898.0353178977966\n",
      "Saving into data/rnn-12.tf\n",
      "--------- Epoch 13 ---------\n",
      "time_elapsed (s): 3148.362883090973\n",
      "Saving into data/rnn-13.tf\n",
      "--------- Epoch 14 ---------\n",
      "time_elapsed (s): 3399.276978969574\n",
      "Saving into data/rnn-14.tf\n",
      "--------- Epoch 15 ---------\n",
      "time_elapsed (s): 3652.906282901764\n",
      "Saving into data/rnn-15.tf\n",
      "--------- Epoch 16 ---------\n",
      "time_elapsed (s): 3952.8570749759674\n",
      "Saving into data/rnn-16.tf\n",
      "--------- Epoch 17 ---------\n",
      "time_elapsed (s): 4219.476907014847\n",
      "Saving into data/rnn-17.tf\n",
      "--------- Epoch 18 ---------\n",
      "time_elapsed (s): 4457.760031938553\n",
      "Saving into data/rnn-18.tf\n",
      "--------- Epoch 19 ---------\n",
      "time_elapsed (s): 4700.630737066269\n",
      "Saving into data/rnn-19.tf\n",
      "--------- Epoch 20 ---------\n",
      "time_elapsed (s): 4926.099878072739\n",
      "Saving into data/rnn-20.tf\n",
      "--------- Epoch 21 ---------\n",
      "time_elapsed (s): 5151.372601032257\n",
      "Saving into data/rnn-21.tf\n",
      "--------- Epoch 22 ---------\n",
      "time_elapsed (s): 5374.425382137299\n",
      "Saving into data/rnn-22.tf\n",
      "--------- Epoch 23 ---------\n",
      "time_elapsed (s): 5597.247031927109\n",
      "Saving into data/rnn-23.tf\n",
      "--------- Epoch 24 ---------\n",
      "time_elapsed (s): 5825.6189839839935\n",
      "Saving into data/rnn-24.tf\n",
      "--------- Epoch 25 ---------\n",
      "time_elapsed (s): 6054.85258102417\n",
      "Saving into data/rnn-25.tf\n",
      "--------- Epoch 26 ---------\n",
      "time_elapsed (s): 6280.5028212070465\n",
      "Saving into data/rnn-26.tf\n",
      "--------- Epoch 27 ---------\n",
      "time_elapsed (s): 6501.212959051132\n",
      "Saving into data/rnn-27.tf\n",
      "--------- Epoch 28 ---------\n",
      "time_elapsed (s): 6720.426610946655\n",
      "Saving into data/rnn-28.tf\n",
      "--------- Epoch 29 ---------\n",
      "time_elapsed (s): 6942.410737037659\n",
      "Saving into data/rnn-29.tf\n",
      "--------- Epoch 30 ---------\n",
      "time_elapsed (s): 7161.8735411167145\n",
      "Saving into data/rnn-30.tf\n",
      "--------- Epoch 31 ---------\n",
      "time_elapsed (s): 7380.357953071594\n",
      "Saving into data/rnn-31.tf\n",
      "--------- Epoch 32 ---------\n",
      "time_elapsed (s): 7600.412356138229\n",
      "Saving into data/rnn-32.tf\n",
      "--------- Epoch 33 ---------\n",
      "time_elapsed (s): 7819.461009025574\n",
      "Saving into data/rnn-33.tf\n",
      "--------- Epoch 34 ---------\n",
      "time_elapsed (s): 8038.039269208908\n",
      "Saving into data/rnn-34.tf\n",
      "--------- Epoch 35 ---------\n",
      "time_elapsed (s): 8282.68532705307\n",
      "Saving into data/rnn-35.tf\n",
      "--------- Epoch 36 ---------\n",
      "time_elapsed (s): 8523.235234975815\n",
      "Saving into data/rnn-36.tf\n",
      "--------- Epoch 37 ---------\n",
      "time_elapsed (s): 8737.588361024857\n",
      "Saving into data/rnn-37.tf\n",
      "--------- Epoch 38 ---------\n",
      "time_elapsed (s): 8949.135949134827\n",
      "Saving into data/rnn-38.tf\n",
      "--------- Epoch 39 ---------\n",
      "time_elapsed (s): 9162.365429878235\n",
      "Saving into data/rnn-39.tf\n",
      "--------- Epoch 40 ---------\n",
      "time_elapsed (s): 9377.573159217834\n",
      "Saving into data/rnn-40.tf\n",
      "--------- Epoch 41 ---------\n",
      "time_elapsed (s): 9594.063915014267\n",
      "Saving into data/rnn-41.tf\n",
      "--------- Epoch 42 ---------\n",
      "time_elapsed (s): 9805.972912073135\n",
      "Saving into data/rnn-42.tf\n",
      "--------- Epoch 43 ---------\n",
      "time_elapsed (s): 10013.28000998497\n",
      "Saving into data/rnn-43.tf\n",
      "--------- Epoch 44 ---------\n",
      "time_elapsed (s): 10234.11480998993\n",
      "Saving into data/rnn-44.tf\n",
      "--------- Epoch 45 ---------\n",
      "time_elapsed (s): 10452.216536045074\n",
      "Saving into data/rnn-45.tf\n",
      "--------- Epoch 46 ---------\n",
      "time_elapsed (s): 10660.503604888916\n",
      "Saving into data/rnn-46.tf\n",
      "--------- Epoch 47 ---------\n",
      "time_elapsed (s): 10869.056018829346\n",
      "Saving into data/rnn-47.tf\n",
      "--------- Epoch 48 ---------\n",
      "time_elapsed (s): 11077.74135184288\n",
      "Saving into data/rnn-48.tf\n",
      "--------- Epoch 49 ---------\n",
      "time_elapsed (s): 11285.81407403946\n",
      "Saving into data/rnn-49.tf\n",
      "--------- Epoch 50 ---------\n",
      "time_elapsed (s): 11492.625254154205\n",
      "Saving into data/rnn-50.tf\n",
      "--------- Epoch 51 ---------\n",
      "time_elapsed (s): 11701.713317155838\n",
      "Saving into data/rnn-51.tf\n",
      "--------- Epoch 52 ---------\n",
      "time_elapsed (s): 11908.945063829422\n",
      "Saving into data/rnn-52.tf\n",
      "--------- Epoch 53 ---------\n",
      "time_elapsed (s): 12115.278746128082\n",
      "Saving into data/rnn-53.tf\n",
      "--------- Epoch 54 ---------\n",
      "time_elapsed (s): 12320.817554950714\n",
      "Saving into data/rnn-54.tf\n",
      "--------- Epoch 55 ---------\n",
      "time_elapsed (s): 12527.153759002686\n",
      "Saving into data/rnn-55.tf\n",
      "--------- Epoch 56 ---------\n",
      "time_elapsed (s): 12740.531570911407\n",
      "Saving into data/rnn-56.tf\n",
      "--------- Epoch 57 ---------\n",
      "time_elapsed (s): 12955.444499015808\n",
      "Saving into data/rnn-57.tf\n",
      "--------- Epoch 58 ---------\n",
      "time_elapsed (s): 13170.674001932144\n",
      "Saving into data/rnn-58.tf\n",
      "--------- Epoch 59 ---------\n",
      "time_elapsed (s): 13379.902307033539\n",
      "Saving into data/rnn-59.tf\n",
      "--------- Epoch 60 ---------\n",
      "time_elapsed (s): 13590.915923833847\n",
      "Saving into data/rnn-60.tf\n",
      "--------- Epoch 61 ---------\n",
      "time_elapsed (s): 13798.552588939667\n",
      "Saving into data/rnn-61.tf\n",
      "--------- Epoch 62 ---------\n",
      "time_elapsed (s): 14008.035825014114\n",
      "Saving into data/rnn-62.tf\n",
      "--------- Epoch 63 ---------\n",
      "time_elapsed (s): 14216.87078499794\n",
      "Saving into data/rnn-63.tf\n",
      "--------- Epoch 64 ---------\n",
      "time_elapsed (s): 14424.43907403946\n",
      "Saving into data/rnn-64.tf\n",
      "--------- Epoch 65 ---------\n",
      "time_elapsed (s): 14631.78543305397\n",
      "Saving into data/rnn-65.tf\n",
      "--------- Epoch 66 ---------\n",
      "time_elapsed (s): 14839.367418050766\n",
      "Saving into data/rnn-66.tf\n",
      "--------- Epoch 67 ---------\n",
      "time_elapsed (s): 15047.84737610817\n",
      "Saving into data/rnn-67.tf\n",
      "--------- Epoch 68 ---------\n",
      "time_elapsed (s): 15257.174207925797\n",
      "Saving into data/rnn-68.tf\n",
      "--------- Epoch 69 ---------\n",
      "time_elapsed (s): 15467.439636945724\n",
      "Saving into data/rnn-69.tf\n",
      "--------- Epoch 70 ---------\n",
      "time_elapsed (s): 15674.977701187134\n",
      "Saving into data/rnn-70.tf\n",
      "--------- Epoch 71 ---------\n",
      "time_elapsed (s): 15883.257030010223\n",
      "Saving into data/rnn-71.tf\n",
      "--------- Epoch 72 ---------\n",
      "time_elapsed (s): 16093.164541959763\n",
      "Saving into data/rnn-72.tf\n",
      "--------- Epoch 73 ---------\n",
      "time_elapsed (s): 16302.148610115051\n",
      "Saving into data/rnn-73.tf\n",
      "--------- Epoch 74 ---------\n",
      "time_elapsed (s): 16515.929139852524\n",
      "Saving into data/rnn-74.tf\n",
      "--------- Epoch 75 ---------\n",
      "time_elapsed (s): 16731.209547042847\n",
      "Saving into data/rnn-75.tf\n",
      "--------- Epoch 76 ---------\n",
      "time_elapsed (s): 16943.18325805664\n",
      "Saving into data/rnn-76.tf\n",
      "--------- Epoch 77 ---------\n",
      "time_elapsed (s): 17153.767283916473\n",
      "Saving into data/rnn-77.tf\n",
      "--------- Epoch 78 ---------\n",
      "time_elapsed (s): 17363.097918987274\n",
      "Saving into data/rnn-78.tf\n",
      "--------- Epoch 79 ---------\n",
      "time_elapsed (s): 17573.928687095642\n",
      "Saving into data/rnn-79.tf\n",
      "--------- Epoch 80 ---------\n",
      "time_elapsed (s): 17784.849951982498\n",
      "Saving into data/rnn-80.tf\n",
      "--------- Epoch 81 ---------\n",
      "time_elapsed (s): 17995.553105831146\n",
      "Saving into data/rnn-81.tf\n",
      "--------- Epoch 82 ---------\n",
      "time_elapsed (s): 18207.953310012817\n",
      "Saving into data/rnn-82.tf\n",
      "--------- Epoch 83 ---------\n",
      "time_elapsed (s): 18421.098495960236\n",
      "Saving into data/rnn-83.tf\n",
      "--------- Epoch 84 ---------\n",
      "time_elapsed (s): 18631.334619045258\n",
      "Saving into data/rnn-84.tf\n",
      "--------- Epoch 85 ---------\n",
      "time_elapsed (s): 18840.672689199448\n",
      "Saving into data/rnn-85.tf\n",
      "--------- Epoch 86 ---------\n",
      "time_elapsed (s): 19050.42599081993\n",
      "Saving into data/rnn-86.tf\n",
      "--------- Epoch 87 ---------\n",
      "time_elapsed (s): 19258.643491983414\n",
      "Saving into data/rnn-87.tf\n",
      "--------- Epoch 88 ---------\n",
      "time_elapsed (s): 19466.458351135254\n",
      "Saving into data/rnn-88.tf\n"
     ]
    },
    {
     "name": "stderr",
     "output_type": "stream",
     "text": [
      "--------- Epoch 89 ---------\n",
      "time_elapsed (s): 19674.66388988495\n",
      "Saving into data/rnn-89.tf\n"
     ]
    }
   ],
   "source": [
    "n_epochs = 90\n",
    "\n",
    "_saving_dir = 'data/'\n",
    "losses_ru, bucket = train_rnn(training_data,\n",
    "      RNN_with_attention_100,\n",
    "      _saving_dir,\n",
    "      name_prefix='rnn',\n",
    "      epochs=n_epochs,\n",
    "      bucket_size=10,\n",
    "      trace_every=1,\n",
    "      )\n"
   ]
  },
  {
   "cell_type": "markdown",
   "metadata": {},
   "source": [
    "trained on max 400 nodes"
   ]
  },
  {
   "cell_type": "code",
   "execution_count": 8,
   "metadata": {},
   "outputs": [
    {
     "name": "stderr",
     "output_type": "stream",
     "text": [
      "--------- Epoch 0 ---------\n",
      "time_elapsed (s): 0.002198934555053711\n",
      "Saving into data/rnn-0.tf\n",
      "--------- Epoch 1 ---------\n",
      "time_elapsed (s): 1212.5825307369232\n",
      "Saving into data/rnn-1.tf\n",
      "--------- Epoch 2 ---------\n",
      "time_elapsed (s): 2435.6520409584045\n",
      "Saving into data/rnn-2.tf\n",
      "--------- Epoch 3 ---------\n",
      "time_elapsed (s): 3659.8572828769684\n",
      "Saving into data/rnn-3.tf\n",
      "--------- Epoch 4 ---------\n",
      "time_elapsed (s): 4933.030325889587\n",
      "Saving into data/rnn-4.tf\n",
      "--------- Epoch 5 ---------\n",
      "time_elapsed (s): 6168.8119328022\n",
      "Saving into data/rnn-5.tf\n",
      "--------- Epoch 6 ---------\n",
      "time_elapsed (s): 7406.63069486618\n",
      "Saving into data/rnn-6.tf\n",
      "--------- Epoch 7 ---------\n",
      "time_elapsed (s): 8582.185778856277\n",
      "Saving into data/rnn-7.tf\n",
      "--------- Epoch 8 ---------\n",
      "time_elapsed (s): 9739.916426897049\n",
      "Saving into data/rnn-8.tf\n",
      "--------- Epoch 9 ---------\n",
      "time_elapsed (s): 10905.071465015411\n",
      "Saving into data/rnn-9.tf\n",
      "--------- Epoch 10 ---------\n",
      "time_elapsed (s): 12128.376188993454\n",
      "Saving into data/rnn-10.tf\n",
      "--------- Epoch 11 ---------\n",
      "time_elapsed (s): 13475.74343085289\n",
      "Saving into data/rnn-11.tf\n",
      "--------- Epoch 12 ---------\n",
      "time_elapsed (s): 14877.980217695236\n",
      "Saving into data/rnn-12.tf\n",
      "--------- Epoch 13 ---------\n",
      "time_elapsed (s): 16282.42160487175\n",
      "Saving into data/rnn-13.tf\n"
     ]
    }
   ],
   "source": [
    "n_epochs = 14\n",
    "\n",
    "_saving_dir = 'data/'\n",
    "losses_ru, bucket = train_rnn(training_data_400,\n",
    "      RNN_with_attention_400,\n",
    "      _saving_dir,\n",
    "      name_prefix='rnn',\n",
    "      epochs=n_epochs,\n",
    "      bucket_size=10,\n",
    "      trace_every=1,\n",
    "      )\n"
   ]
  },
  {
   "cell_type": "markdown",
   "metadata": {},
   "source": [
    "c) "
   ]
  },
  {
   "cell_type": "markdown",
   "metadata": {},
   "source": [
    "max 10 nodes"
   ]
  },
  {
   "cell_type": "markdown",
   "metadata": {},
   "source": [
    " 10 epochs"
   ]
  },
  {
   "cell_type": "code",
   "execution_count": 35,
   "metadata": {
    "scrolled": true
   },
   "outputs": [
    {
     "data": {
      "text/plain": [
       "[<matplotlib.lines.Line2D at 0x3928e3be0>]"
      ]
     },
     "execution_count": 35,
     "metadata": {},
     "output_type": "execute_result"
    },
    {
     "data": {
      "image/png": "[encoded data removed]",
      "text/plain": [
       "<Figure size 432x288 with 1 Axes>"
      ]
     },
     "metadata": {
      "needs_background": "light"
     },
     "output_type": "display_data"
    }
   ],
   "source": [
    "plt.plot(losses_ru)"
   ]
  },
  {
   "cell_type": "markdown",
   "metadata": {},
   "source": [
    "25 epochs"
   ]
  },
  {
   "cell_type": "code",
   "execution_count": 37,
   "metadata": {},
   "outputs": [
    {
     "data": {
      "text/plain": [
       "[<matplotlib.lines.Line2D at 0x182b86970>]"
      ]
     },
     "execution_count": 37,
     "metadata": {},
     "output_type": "execute_result"
    },
    {
     "data": {
      "image/png": "[encoded data removed]",
      "text/plain": [
       "<Figure size 432x288 with 1 Axes>"
      ]
     },
     "metadata": {
      "needs_background": "light"
     },
     "output_type": "display_data"
    }
   ],
   "source": [
    "plt.plot(losses_ru)"
   ]
  },
  {
   "cell_type": "markdown",
   "metadata": {},
   "source": [
    "60 epochs"
   ]
  },
  {
   "cell_type": "code",
   "execution_count": 39,
   "metadata": {},
   "outputs": [
    {
     "data": {
      "text/plain": [
       "[<matplotlib.lines.Line2D at 0x3925189a0>]"
      ]
     },
     "execution_count": 39,
     "metadata": {},
     "output_type": "execute_result"
    },
    {
     "data": {
      "image/png": "[encoded data removed]",
      "text/plain": [
       "<Figure size 432x288 with 1 Axes>"
      ]
     },
     "metadata": {
      "needs_background": "light"
     },
     "output_type": "display_data"
    }
   ],
   "source": [
    "plt.plot(losses_ru)"
   ]
  },
  {
   "cell_type": "markdown",
   "metadata": {},
   "source": [
    "100 nodes max, 90 epochs I think"
   ]
  },
  {
   "cell_type": "code",
   "execution_count": 58,
   "metadata": {},
   "outputs": [
    {
     "data": {
      "text/plain": [
       "[<matplotlib.lines.Line2D at 0x1f6702460>]"
      ]
     },
     "execution_count": 58,
     "metadata": {},
     "output_type": "execute_result"
    },
    {
     "data": {
      "image/png": "[encoded data removed]",
      "text/plain": [
       "<Figure size 432x288 with 1 Axes>"
      ]
     },
     "metadata": {
      "needs_background": "light"
     },
     "output_type": "display_data"
    }
   ],
   "source": [
    "plt.plot(losses_ru)"
   ]
  },
  {
   "cell_type": "markdown",
   "metadata": {},
   "source": [
    "400 nodes max,    90 epochs "
   ]
  },
  {
   "cell_type": "code",
   "execution_count": 18,
   "metadata": {},
   "outputs": [
    {
     "data": {
      "text/plain": [
       "[<matplotlib.lines.Line2D at 0x1a45ee430>]"
      ]
     },
     "execution_count": 18,
     "metadata": {},
     "output_type": "execute_result"
    },
    {
     "data": {
      "image/png": "[encoded data removed]",
      "text/plain": [
       "<Figure size 432x288 with 1 Axes>"
      ]
     },
     "metadata": {
      "needs_background": "light"
     },
     "output_type": "display_data"
    }
   ],
   "source": [
    "plt.plot(losses_ru)"
   ]
  },
  {
   "cell_type": "markdown",
   "metadata": {},
   "source": [
    "### 4"
   ]
  },
  {
   "cell_type": "code",
   "execution_count": 11,
   "metadata": {},
   "outputs": [],
   "source": [
    "_is_relevant = [.0, 1.]\n",
    "_is_not_relevant = [1., 0.]\n",
    "\n",
    "_logger = logging.getLogger(__name__)\n",
    "\n",
    "def test(data, model):\n",
    "    true_positives = 0\n",
    "    false_positives = 0\n",
    "    true_negatives = 0\n",
    "    false_negatives = 0\n",
    "    for item in data:\n",
    "        expected = item['answer']\n",
    "        node_vectors = item['graph']['vectors']\n",
    "        item_vector = item['item_vector']\n",
    "        question_vectors = item['question_vectors']\n",
    "        question_mask = item['question_mask']\n",
    "#        try:\n",
    "        prediction = model.predict(node_vectors, item_vector, question_vectors, question_mask)\n",
    "        if prediction == expected and expected == _is_relevant:\n",
    "            true_positives += 1\n",
    "        if prediction == expected and expected == _is_not_relevant:\n",
    "            true_negatives += 1\n",
    "        if prediction != expected and expected == _is_relevant:\n",
    "            false_negatives += 1\n",
    "        if prediction != expected and expected == _is_not_relevant:\n",
    "            false_positives += 1\n",
    "#        except Exception as e:\n",
    "#            print('Exception caught during training: ' + str(e))\n",
    "    try:\n",
    "        precision = true_positives / (true_positives + false_positives)\n",
    "        recall = true_positives / (true_positives + false_negatives)\n",
    "        f1 = 2 * 1 / (1 / precision + 1 / recall)\n",
    "        print('precision', precision)\n",
    "        print('recall', recall)\n",
    "        print('f1', f1)\n",
    "    except:\n",
    "        print('Cannot compute precision and recall.')\n"
   ]
  },
  {
   "cell_type": "markdown",
   "metadata": {},
   "source": [
    "### Test RNN trained on 10 node subgraphs"
   ]
  },
  {
   "cell_type": "code",
   "execution_count": 56,
   "metadata": {},
   "outputs": [
    {
     "name": "stdout",
     "output_type": "stream",
     "text": [
      "precision 0.5052192066805845\n",
      "recall 0.24719101123595505\n",
      "f1 0.33196159122085045\n"
     ]
    }
   ],
   "source": [
    "test(test_set,RNN_with_attention)"
   ]
  },
  {
   "cell_type": "markdown",
   "metadata": {},
   "source": [
    "### Test RNN trained on 100 node subgraphs"
   ]
  },
  {
   "cell_type": "code",
   "execution_count": 16,
   "metadata": {},
   "outputs": [
    {
     "name": "stdout",
     "output_type": "stream",
     "text": [
      "precision 0.9183457051961824\n",
      "recall 0.8774062816616008\n",
      "f1 0.8974093264248705\n"
     ]
    }
   ],
   "source": [
    "# try testing the one trained on 100 on the 10 subgraph set\n",
    "\n",
    "test(test_set,RNN_with_attention_100)"
   ]
  },
  {
   "cell_type": "markdown",
   "metadata": {},
   "source": [
    "### Test RNN trained on 400 node subgraphs"
   ]
  },
  {
   "cell_type": "markdown",
   "metadata": {},
   "source": [
    "Tested on 400 nodes"
   ]
  },
  {
   "cell_type": "code",
   "execution_count": 12,
   "metadata": {},
   "outputs": [
    {
     "name": "stdout",
     "output_type": "stream",
     "text": [
      "precision 0.8771929824561403\n",
      "recall 0.9155645981688708\n",
      "f1 0.8959681433549029\n"
     ]
    }
   ],
   "source": [
    "test(test_set,RNN_with_attention_400)"
   ]
  },
  {
   "cell_type": "markdown",
   "metadata": {},
   "source": [
    "Tested on 100 nodes "
   ]
  },
  {
   "cell_type": "code",
   "execution_count": 14,
   "metadata": {},
   "outputs": [
    {
     "name": "stdout",
     "output_type": "stream",
     "text": [
      "precision 0.8757281553398059\n",
      "recall 0.9222903885480572\n",
      "f1 0.898406374501992\n"
     ]
    }
   ],
   "source": [
    "test(test_set,RNN_with_attention_400)"
   ]
  },
  {
   "cell_type": "markdown",
   "metadata": {},
   "source": [
    "Tested on 10 nodes "
   ]
  },
  {
   "cell_type": "code",
   "execution_count": 15,
   "metadata": {},
   "outputs": [
    {
     "name": "stdout",
     "output_type": "stream",
     "text": [
      "precision 0.8726738491674828\n",
      "recall 0.9101123595505618\n",
      "f1 0.891\n"
     ]
    }
   ],
   "source": [
    "# pickle file, saved from running the make_training_set_wikidata notebook\n",
    "   # name has model, number of entities and number of nodes\n",
    "\n",
    "current_test_set =  'test_data_rnn_1944_10.pickle'\n",
    "with open(current_test_set, 'rb') as handle:\n",
    "    test_set_10 = pickle.load(handle)\n",
    "    \n",
    "test(test_set_10,RNN_with_attention_400)    "
   ]
  },
  {
   "cell_type": "code",
   "execution_count": null,
   "metadata": {},
   "outputs": [],
   "source": []
  },
  {
   "cell_type": "code",
   "execution_count": null,
   "metadata": {},
   "outputs": [],
   "source": []
  },
  {
   "cell_type": "code",
   "execution_count": null,
   "metadata": {},
   "outputs": [],
   "source": []
  },
  {
   "cell_type": "code",
   "execution_count": null,
   "metadata": {},
   "outputs": [],
   "source": []
  },
  {
   "cell_type": "code",
   "execution_count": null,
   "metadata": {},
   "outputs": [],
   "source": []
  }
 ],
 "metadata": {
  "kernelspec": {
   "display_name": "Python 3",
   "language": "python",
   "name": "python3"
  },
  "language_info": {
   "codemirror_mode": {
    "name": "ipython",
    "version": 3
   },
   "file_extension": ".py",
   "mimetype": "text/x-python",
   "name": "python",
   "nbconvert_exporter": "python",
   "pygments_lexer": "ipython3",
   "version": "3.8.2"
  }
 },
 "nbformat": 4,
 "nbformat_minor": 4
}
